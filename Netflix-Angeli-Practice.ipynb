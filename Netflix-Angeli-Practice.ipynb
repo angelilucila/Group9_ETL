{
 "cells": [
  {
   "cell_type": "code",
   "execution_count": null,
   "metadata": {},
   "outputs": [],
   "source": [
    "#Python File for ETL Project"
   ]
  },
  {
   "cell_type": "code",
   "execution_count": null,
   "metadata": {},
   "outputs": [],
   "source": [
    "import pandas as pd\n",
    "from sqlalchemy import create_engine"
   ]
  },
  {
   "cell_type": "code",
   "execution_count": null,
   "metadata": {},
   "outputs": [],
   "source": [
    "#Extract CSV's into DataFrames"
   ]
  },
  {
   "cell_type": "code",
   "execution_count": null,
   "metadata": {},
   "outputs": [],
   "source": [
    "# File Legend:\n",
    "\n",
    "# CSV_1: Netflix Titles\n",
    "# CSV_2: Metascore Data \n"
   ]
  },
  {
   "cell_type": "code",
   "execution_count": null,
   "metadata": {},
   "outputs": [],
   "source": [
    "# Extract Step\n",
    "# Netflix Titles\n",
    "\n",
    "CSV_1 = \"Resources/netflix_titles.csv\"\n",
    "netflix_df = pd.read_csv(CSV_1)\n",
    "netflix_df.head()"
   ]
  },
  {
   "cell_type": "code",
   "execution_count": null,
   "metadata": {},
   "outputs": [],
   "source": [
    "# List total columns & Identify columns for revised dataframe\n",
    "\n",
    "for col in netflix_df.columns: \n",
    "    print(col) \n",
    "    "
   ]
  },
  {
   "cell_type": "code",
   "execution_count": null,
   "metadata": {},
   "outputs": [],
   "source": [
    "# Transform Step\n",
    "# Revise Dataset with select columns\n",
    "\n",
    "revised_netflix_df = netflix_df[[\"type\",\"title\",\"director\",\"country\",\"release_year\",\"listed_in\",\"description\"]]\n",
    "revised_netflix_df.head()\n"
   ]
  },
  {
   "cell_type": "code",
   "execution_count": null,
   "metadata": {},
   "outputs": [],
   "source": [
    "# Transform Step\n",
    "# Drop TV Type \n",
    "drop_netflix_df = revised_netflix_df[revised_netflix_df.type != 'TV Show']\n",
    "drop_netflix_df.head()"
   ]
  },
  {
   "cell_type": "code",
   "execution_count": null,
   "metadata": {},
   "outputs": [],
   "source": [
    "# Transform Step\n",
    "# Rename columns\n",
    "renamed_netflix_df = drop_netflix_df.rename(columns={\"title\":\"movie_title\",\"country\":\"produced_in\",\"listed_in\": \"netflix_genre\"})\n",
    "renamed_netflix_df.head()"
   ]
  },
  {
   "cell_type": "code",
   "execution_count": null,
   "metadata": {},
   "outputs": [],
   "source": [
    "# Transform Step\n",
    "# Remove Type Column\n",
    "movie_netflix_df = renamed_netflix_df.drop('type', axis=1)\n",
    "movie_netflix_df.head()"
   ]
  },
  {
   "cell_type": "code",
   "execution_count": null,
   "metadata": {},
   "outputs": [],
   "source": [
    "# Transform Step \n",
    "# split produced_in\n",
    "# Define 1st value in listed_in column as main country the movie was produced in\n",
    "produced_df = movie_netflix_df\n",
    "\n",
    "# split genre column\n",
    "split_produced_df = produced_df['produced_in'].str.split(',', 1, expand=True)\n",
    "\n",
    "# Rename columns\n",
    "renamed_produced_df = split_produced_df.rename(columns={0:\"primary_country\",1:\"other_countries\"})\n",
    "renamed_produced_df.head()\n",
    "\n",
    "# drop column\n",
    "country_df = renamed_produced_df.drop('other_countries', axis=1)\n",
    "country_df.head()\n"
   ]
  },
  {
   "cell_type": "code",
   "execution_count": null,
   "metadata": {},
   "outputs": [],
   "source": [
    "# Get Unique Values in \n",
    "country_list = country_df['primary_country'].unique()\n",
    "country_list"
   ]
  },
  {
   "cell_type": "code",
   "execution_count": null,
   "metadata": {},
   "outputs": [],
   "source": [
    "# Classify International Movies \n",
    "# might need to be done by merging country_df with movie_netflix_df and then grouping US films... \n"
   ]
  },
  {
   "cell_type": "code",
   "execution_count": null,
   "metadata": {},
   "outputs": [],
   "source": [
    "# next steps: - JP Can do \n",
    "# filter type to just movies \n",
    "# remove description column\n",
    "# rename listed_in to 'Netflix Genre': extract first listed_in value as Netflix Genre\n",
    "# could filter out international movies, country to United States "
   ]
  },
  {
   "cell_type": "code",
   "execution_count": null,
   "metadata": {},
   "outputs": [],
   "source": [
    "# split neftlix_genre\n",
    "# Define 1st value in listed_in column as main country the movie was produced in\n",
    "genre_df = movie_netflix_df\n",
    "\n",
    "# split genre column\n",
    "split_genre_df = genre_df['netflix_genre'].str.split(',', 1, expand=True)\n",
    "\n",
    "# Rename columns\n",
    "renamed_genre_df = split_genre_df.rename(columns={0:\"primary_genre\",1:\"other_genres\"})\n",
    "\n",
    "# drop column\n",
    "drop_netflix_genre_df = renamed_genre_df.drop('other_genres', axis=1)\n",
    "\n",
    "# Rename columns\n",
    "netflix_genre_df = drop_netflix_genre_df.rename(columns={\"primary_genre\":\"listed_in_netflix\"})\n",
    "netflix_genre_df.head()"
   ]
  },
  {
   "cell_type": "code",
   "execution_count": null,
   "metadata": {},
   "outputs": [],
   "source": [
    "# Extract Step\n",
    "# Metascore Data\n",
    "\n",
    "CSV_2 = \"Resources/metacritic_movies.csv\"\n",
    "metascore_df = pd.read_csv(CSV_2)\n",
    "metascore_df.head()"
   ]
  },
  {
   "cell_type": "code",
   "execution_count": null,
   "metadata": {},
   "outputs": [],
   "source": [
    "#List total columns & identify columns for revised dataframe\n",
    "for col in metascore_df.columns: \n",
    "    print(col) "
   ]
  },
  {
   "cell_type": "code",
   "execution_count": null,
   "metadata": {},
   "outputs": [],
   "source": [
    "# Transform Step\n",
    "# Revise Dataset with select columns\n",
    "\n",
    "revised_metascore_df = metascore_df[[\"movie_title\",\"genre\",\"metascore\"]]\n",
    "revised_metascore_df.head()\n"
   ]
  },
  {
   "cell_type": "code",
   "execution_count": null,
   "metadata": {},
   "outputs": [],
   "source": [
    "# Transform Step\n",
    "# Rename columns\n",
    "renamed_metascore_df = revised_metascore_df.rename(columns={\"genre\": \"metacritic_genre\"})\n",
    "renamed_metascore_df.head()\n"
   ]
  },
  {
   "cell_type": "code",
   "execution_count": null,
   "metadata": {},
   "outputs": [],
   "source": [
    "# split metacritic_genre\n",
    "# Define 1st value in listed_in column as main country the movie was produced in\n",
    "metagenre_df = renamed_metascore_df[['movie_title','metacritic_genre']]\n",
    "metagenre_df.head()"
   ]
  },
  {
   "cell_type": "code",
   "execution_count": null,
   "metadata": {},
   "outputs": [],
   "source": [
    "# split genre column\n",
    "split_metagenre_df = renamed_metascore_df['metacritic_genre'].str.split(',', 1, expand=True)\n"
   ]
  },
  {
   "cell_type": "code",
   "execution_count": null,
   "metadata": {},
   "outputs": [],
   "source": [
    "\n",
    "# Rename columns\n",
    "renamed_metagenre_df = split_metagenre_df.rename(columns={0:\"primary_genre\",1:\"other_genres\"})\n",
    "\n",
    "# drop column\n",
    "drop_genre_df = renamed_metagenre_df.drop('other_genres', axis=1)\n",
    "\n",
    "# Rename column\n",
    "metacritic_genre_df = drop_genre_df.rename(columns={\"primary_genre\":\"metacritic_genre\"})\n",
    "metacritic_genre_df.head()"
   ]
  },
  {
   "cell_type": "code",
   "execution_count": null,
   "metadata": {},
   "outputs": [],
   "source": [
    "new_metacritic_df = pd.merge(renamed_metascore_df, metacritic_genre_df, on=\"metacritic_genre\")\n",
    "new_metacritic_df.head()"
   ]
  },
  {
   "cell_type": "code",
   "execution_count": null,
   "metadata": {},
   "outputs": [],
   "source": [
    "# Binning by score range \n",
    "#score range legend (4 star range)\n",
    "\n",
    "# 4-Star Scale\n",
    "# Their Grade\tConverts to\n",
    "# 4- 100\n",
    "# 3 -75\n",
    "# 2 - 50\n",
    "# 1 - 25\n",
    "# 0 - 0\n",
    "\n",
    " # Create bins in which to place values based upon TED Talk views\n",
    "bins = [0, 25, 50, 75, 100]\n",
    "\n",
    "# Create labels for these bins\n",
    "group_labels = [\"1 star\", \"2 stars\", \"3 stars\", \"4 stars\"]\n",
    "\n",
    "# Place the data series into a new column inside of the DataFrame\n",
    "renamed_metascore_df[\"Rating\"] = pd.cut(renamed_metascore_df[\"metascore\"], bins, labels=group_labels)\n",
    "bin_df = renamed_metascore_df\n",
    "bin_df.head()"
   ]
  },
  {
   "cell_type": "code",
   "execution_count": null,
   "metadata": {},
   "outputs": [],
   "source": [
    "# Groupby\n",
    "# Create a GroupBy object based upon \"View Group\"\n",
    "new_bin_df = bin_df.groupby(\"Rating\")\n",
    "new_bin_df.head(2)"
   ]
  },
  {
   "cell_type": "code",
   "execution_count": null,
   "metadata": {},
   "outputs": [],
   "source": [
    "# Sort Descending metascore\n",
    "bin_df.sort_values(by='metascore', ascending=False)\n",
    "bin_df.head()"
   ]
  },
  {
   "cell_type": "code",
   "execution_count": null,
   "metadata": {},
   "outputs": [],
   "source": [
    "# attempt to merge netflix & metascore dfs\n",
    "\n",
    "merge_movie_df = pd.merge(movie_netflix_df,bin_df, on='movie_title')\n",
    "merge_movie_df.head()"
   ]
  },
  {
   "cell_type": "code",
   "execution_count": null,
   "metadata": {},
   "outputs": [],
   "source": [
    "# Sort Descending metascore\n",
    "sort_merge_df = merge_movie_df.sort_values(by='metascore', ascending=False)\n",
    "use_this_df = sort_merge_df\n",
    "use_this_df.head()"
   ]
  },
  {
   "cell_type": "code",
   "execution_count": null,
   "metadata": {},
   "outputs": [],
   "source": [
    "#  Create database connection (need to update.. this is from class example)\n",
    "# # connection_string = \"postgres:postgres@localhost:5432/customer_db\"\n",
    "# engine = create_engine(f'postgresql://{connection_string}')"
   ]
  },
  {
   "cell_type": "code",
   "execution_count": null,
   "metadata": {},
   "outputs": [],
   "source": [
    "#  # Confirm tables\n",
    "# engine.table_names()"
   ]
  },
  {
   "cell_type": "code",
   "execution_count": null,
   "metadata": {},
   "outputs": [],
   "source": []
  },
  {
   "cell_type": "code",
   "execution_count": null,
   "metadata": {},
   "outputs": [],
   "source": [
    "#  Load DataFrames into database (need to update.. this is from class example)"
   ]
  },
  {
   "cell_type": "code",
   "execution_count": null,
   "metadata": {},
   "outputs": [],
   "source": [
    "#  premise_transformed.to_sql(name='premise', con=engine, if_exists='append', index=True)"
   ]
  },
  {
   "cell_type": "code",
   "execution_count": null,
   "metadata": {},
   "outputs": [],
   "source": [
    "# county_transformed.to_sql(name='county', con=engine, if_exists='append', index=True)"
   ]
  }
 ],
 "metadata": {
  "kernelspec": {
   "display_name": "Python 3",
   "language": "python",
   "name": "python3"
  },
  "language_info": {
   "codemirror_mode": {
    "name": "ipython",
    "version": 3
   },
   "file_extension": ".py",
   "mimetype": "text/x-python",
   "name": "python",
   "nbconvert_exporter": "python",
   "pygments_lexer": "ipython3",
   "version": "3.8.3"
  }
 },
 "nbformat": 4,
 "nbformat_minor": 4
}
